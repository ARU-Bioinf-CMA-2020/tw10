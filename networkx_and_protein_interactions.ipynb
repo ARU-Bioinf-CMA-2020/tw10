{
 "cells": [
  {
   "cell_type": "markdown",
   "metadata": {},
   "source": [
    "## Networkx and protein:protein interaction data"
   ]
  },
  {
   "cell_type": "markdown",
   "metadata": {},
   "source": [
    "## Ribosomal protein interactions in Networkx\n",
    "\n",
    "This notebook will be using data from a paper on protein networks in the eukaryotic ribosome. The original structure for this is pdb code 4v88 which has both the large (L) and small (S) subunits. The ribosome is basically an RNA machine for making proteins using the amino-acids provided by tRNAs. Protein decorate and stabilize the outside of the RNA - they also make contact with each other - very often through elongated projections that have been likened to the communicating extensions of neurones. \n",
    "\n",
    "The data in this notebook are from the analysis of these extensions in the 4v88 data by Poirot and Timsit (2016, Neuron-Like Networks Between Ribosomal Proteins Within the Ribosome. Sci Rep. 2016;6:26485. https://doi.org/10.1038/srep26485) \n",
    "\n",
    "Although it is interesting to look at the protein:protein interactions that they study in detail - it is important to remember that the ribosome is mainly RNA. You can see the structure if you load the 4v88 into ICM browser or at the PDBe webpage https://pdbe.org/4v88. \n",
    "\n",
    "If you do you will see how the proteins decorate the outer surface of the subunits. And that there is a cleft between the two subunits that allows the mRNA access to the active site. Because of this cleft, relatively few proteins from the small subunit can reach those in the large subunit. \n",
    "\n",
    "The tables of interactions have been turned into the python data structures below. \n",
    "\n",
    "Here is the network of contacts mentioned in the paper above (extracted from their tables S3 and S4). Many proteins have several contacts through elongated extensions."
   ]
  },
  {
   "cell_type": "code",
   "execution_count": null,
   "metadata": {},
   "outputs": [],
   "source": [
    "# run this cell to load the table_of_contacts dictionary\n",
    "table_of_contacts = {\"eL13\" : [\"eL15\", \"eL18\", \"eL36\", \"uL15\", \"uL29\", \"uL4\"],\n",
    "\"eL14\" : [\"eL20\", \"eL6\", \"uL13\", \"uL6\"],\n",
    "\"eL15\" : [\"eL36\", \"eL42\", \"eL8\", \"uL2\", \"uL29\", \"uL4\"],\n",
    "\"eL18\" : [\"uL15\", \"uL30\", \"uL4\"],\n",
    "\"eL19\" : [\"eS7\"],\n",
    "\"eL20\" : [\"eL21\", \"uL13\", \"uL16\", \"uL30\", \"uL4\", \"uL6\"],\n",
    "\"eL21\" : [\"eL29\", \"uL16\", \"uL18\", \"uL30\", \"uL4\"],\n",
    "\"eL24\" : [\"eS6\", \"uL14\", \"uL3\"],\n",
    "\"eL27\" : [\"eL30\", \"eL34\", \"eL8\"],\n",
    "\"eL30\" : [\"eL34\", \"eL43\"],\n",
    "\"eL32\" : [\"eL33\", \"eL6\", \"uL15\"],\n",
    "\"eL33\" : [\"eL6\", \"uL13\", \"uL22\"],\n",
    "\"eL34\" : [\"eL39\"],\n",
    "\"eL36\" : [\"eL8\", \"uL15\"],\n",
    "\"eL37\" : [\"eL39\", \"uL29\", \"uL4\"],\n",
    "\"eL39\" : [\"uL23\", \"uL24\"],\n",
    "\"eL40\" : [\"uL6\"],\n",
    "\"eL42\" : [\"uL15\", \"uL5\"],\n",
    "\"eL43\" : [\"uL2\"],\n",
    "\"eL8\" : [\"uL2\", \"uL23\"],\n",
    "\"eS10\" : [\"eS12\", \"uS14\", \"uS3\"],\n",
    "\"eS12\" : [\"eS31\"],\n",
    "\"eS17\" : [\"uS2\", \"uS3\"],\n",
    "\"eS19\" : [\"uS13\", \"uS9\"],\n",
    "\"eS21\" : [\"eS24\", \"eS27\", \"eS4\", \"eS6\", \"uS2\", \"uS4\", \"uS5\", \"uS8\"],\n",
    "\"eS24\" : [\"eS4\", \"eS6\", \"uS4\"],\n",
    "\"eS25\" : [\"uS13\", \"uS7\", \"uS9\"],\n",
    "\"eS27\" : [\"uS15\", \"uS8\"],\n",
    "\"eS28\" : [\"eS30\", \"uS12\", \"uS4\", \"uS7\"],\n",
    "\"eS30\" : [\"uS12\", \"uS4\"],\n",
    "\"eS4\" : [\"eS6\", \"uS17\", \"uS4\"],\n",
    "\"eS6\" : [\"uL3\"],\n",
    "\"eS7\" : [\"uS15\", \"uS8\"],\n",
    "\"eS8\" : [\"uS17\"],\n",
    "\"uL13\" : [\"uL3\", \"uL6\"],\n",
    "\"uL14\" : [\"uL3\"],\n",
    "\"uL16\" : [\"uL18\"],\n",
    "\"uL18\" : [\"uL5\"],\n",
    "\"uL23\" : [\"uL29\"],\n",
    "\"uL24\" : [\"uL4\"],\n",
    "\"uL30\" : [\"uL4\"],\n",
    "\"uS10\" : [\"uS14\", \"uS3\", \"uS9\"],\n",
    "\"uS12\" : [\"uS17\", \"uS8\"],\n",
    "\"uS13\" : [\"uS19\"],\n",
    "\"uS14\" : [\"uS3\"],\n",
    "\"uS15\" : [\"uS17\", \"uS8\"],\n",
    "\"uS17\" : [\"uS8\"],\n",
    "\"uS2\" : [\"uS5\"],\n",
    "\"uS3\" : [\"uS5\"],\n",
    "\"uS4\" : [\"uS5\", \"uS8\"],\n",
    "\"uS5\" : [\"uS8\"],\n",
    "\"uS7\" : [\"uS9\"],\n",
    "\"GBP\" : [\"uS9\", \"uS12\", \"eS17\"],\n",
    "\"STM1\" : [\"uS12\", \"uS19\", \"eS31\" ],}"
   ]
  },
  {
   "cell_type": "code",
   "execution_count": null,
   "metadata": {},
   "outputs": [],
   "source": [
    "# run this cell to import networkx and pyplot\n",
    "import networkx as nx\n",
    "import matplotlib.pyplot as plt"
   ]
  },
  {
   "cell_type": "markdown",
   "metadata": {},
   "source": [
    "The protein interactions will be treated as reciprocal and so an undirected graph is used."
   ]
  },
  {
   "cell_type": "code",
   "execution_count": null,
   "metadata": {},
   "outputs": [],
   "source": [
    "# run this cell to create (an empty) nx.Graph called contacts_graph\n",
    "contacts_graph = nx.Graph()"
   ]
  },
  {
   "cell_type": "markdown",
   "metadata": {},
   "source": [
    "The individual proteins can be added as nodes from the `table_of_contacts` dictionary keys"
   ]
  },
  {
   "cell_type": "code",
   "execution_count": null,
   "metadata": {},
   "outputs": [],
   "source": [
    "# run this cell add the individual proteins as nodes of protein_graph\n",
    "contacts_graph.add_nodes_from(table_of_contacts.keys())"
   ]
  },
  {
   "cell_type": "markdown",
   "metadata": {},
   "source": [
    "Running `nx.info` shows that after this the graph is a series of nodes that are not yet connected"
   ]
  },
  {
   "cell_type": "code",
   "execution_count": null,
   "metadata": {},
   "outputs": [],
   "source": [
    "# run this cell to get basic info on contacts_graph\n",
    "print(nx.info(contacts_graph))"
   ]
  },
  {
   "cell_type": "markdown",
   "metadata": {},
   "source": [
    "Then the contacts from the network are added as edges."
   ]
  },
  {
   "cell_type": "code",
   "execution_count": null,
   "metadata": {},
   "outputs": [],
   "source": [
    "# Then we determine the edges on the nodes\n",
    "for protein, interacting_proteins in table_of_contacts.items():\n",
    "    for contact in interacting_proteins:\n",
    "        contacts_graph.add_edge(protein, contact)"
   ]
  },
  {
   "cell_type": "markdown",
   "metadata": {},
   "source": [
    "After we have add the edges it can be noted that there are edges and that the number of nodes in the graph has increased (question: why is this so?). "
   ]
  },
  {
   "cell_type": "code",
   "execution_count": null,
   "metadata": {},
   "outputs": [],
   "source": [
    "# run this cell to get basic info on contacts_graph\n",
    "print(nx.info(contacts_graph))"
   ]
  },
  {
   "cell_type": "markdown",
   "metadata": {},
   "source": [
    "Lets try drawing the graph in two ways:"
   ]
  },
  {
   "cell_type": "code",
   "execution_count": null,
   "metadata": {},
   "outputs": [],
   "source": [
    "nx.draw_random(contacts_graph,node_color='r',)"
   ]
  },
  {
   "cell_type": "code",
   "execution_count": null,
   "metadata": {},
   "outputs": [],
   "source": [
    "nx.draw_circular(contacts_graph,node_color='y')"
   ]
  },
  {
   "cell_type": "markdown",
   "metadata": {},
   "source": [
    "Neither one of those representations showed the effect of the cleft between the small and the large subunit. \n",
    "\n",
    "One approach is to apply a force to the nodes. The nodes are treated as if each edge was a little spring. This can untangle them.\n",
    "\n",
    "This has to be done iteratively. And like the random approach it can vary from run to run.\n",
    "\n",
    "But it should separate out the clusters of nodes for the two subunits.\n",
    "\n",
    "If not then try altering the constant k or the number of interations."
   ]
  },
  {
   "cell_type": "code",
   "execution_count": null,
   "metadata": {},
   "outputs": [],
   "source": [
    "nx.draw_spring(contacts_graph, k=0.80, iterations=30, with_labels=True, node_color='c',)"
   ]
  },
  {
   "cell_type": "markdown",
   "metadata": {},
   "source": [
    "Note that each time the cell is run a different diagram is produced.\n",
    "\n",
    "You should be able to see a separation between the small and large subunits. But it would be much clearer if the small and large subunits had distinct colors. The following cell has incomplete code to acheive this."
   ]
  },
  {
   "cell_type": "code",
   "execution_count": null,
   "metadata": {},
   "outputs": [],
   "source": [
    "# TASK!\n",
    "# complete code to draw diagram with small and large nodes different colors\n",
    "plt.figure(figsize=(10,10))\n",
    "pos_spring = nx.spring_layout(contacts_graph)\n",
    "small_node_list = [label  for label in set(contacts_graph) if 'S' in label]\n",
    "nx.draw_networkx_nodes(contacts_graph, pos=pos_spring, nodelist=small_node_list, node_color='pink')\n",
    "nx.draw_networkx_edges(contacts_graph, pos=pos_spring, alpha=0.5)\n",
    "# complete code drawing the other 'large' nodes and labelling all nodes\n",
    "plt.axis('off')"
   ]
  },
  {
   "cell_type": "markdown",
   "metadata": {},
   "source": [
    "Question: there is one subunit called `GBP` (short for Guanine binding protein) that is does not have `S` or `L` in its name. In our first attempt at a diagram we grouped this with the large subunits. Draw a second diagram including GBP with the small subunits. Does it make more sense to included GBP with the small or with the large subunits?"
   ]
  },
  {
   "cell_type": "code",
   "execution_count": null,
   "metadata": {},
   "outputs": [],
   "source": [
    "# your turn draw a network diagram colouring the small and large \n",
    "# subunits in different colours including GBP as a small subunit"
   ]
  },
  {
   "cell_type": "markdown",
   "metadata": {},
   "source": [
    "## Degree of the network\n",
    "\n",
    "This is a useful metrix to understand how connected a network is."
   ]
  },
  {
   "cell_type": "code",
   "execution_count": null,
   "metadata": {},
   "outputs": [],
   "source": [
    "n = contacts_graph.number_of_nodes()\n",
    "print(n)"
   ]
  },
  {
   "cell_type": "code",
   "execution_count": null,
   "metadata": {},
   "outputs": [],
   "source": [
    "e = contacts_graph.number_of_edges()\n",
    "print(e)"
   ]
  },
  {
   "cell_type": "markdown",
   "metadata": {},
   "source": [
    "We can calculate the average degree by multipling twice the number of edges by the number of nodes. Why twice?Remember that each edge connects two nodes so will contribute to the degree of both."
   ]
  },
  {
   "cell_type": "code",
   "execution_count": null,
   "metadata": {},
   "outputs": [],
   "source": [
    "print('Average degree',  2*e/n)"
   ]
  },
  {
   "cell_type": "markdown",
   "metadata": {},
   "source": [
    "The average degree of a network is included in the short summary of information of a graph provided by the function `nx.info`:"
   ]
  },
  {
   "cell_type": "code",
   "execution_count": null,
   "metadata": {},
   "outputs": [],
   "source": [
    "print(nx.info(contacts_graph))"
   ]
  },
  {
   "cell_type": "markdown",
   "metadata": {},
   "source": [
    "The network density compares this number of edges with the maximum possible."
   ]
  },
  {
   "cell_type": "code",
   "execution_count": null,
   "metadata": {},
   "outputs": [],
   "source": [
    "nx.density(contacts_graph)"
   ]
  },
  {
   "cell_type": "code",
   "execution_count": null,
   "metadata": {},
   "outputs": [],
   "source": [
    "# run this cell to print out the degree for each node in contact_graphs\n",
    "print(contacts_graph.degree)"
   ]
  },
  {
   "cell_type": "markdown",
   "metadata": {},
   "source": [
    "This can be sorted to find the best connected nodes. "
   ]
  },
  {
   "cell_type": "code",
   "execution_count": null,
   "metadata": {},
   "outputs": [],
   "source": [
    "nodes_by_degree = sorted(contacts_graph.degree, key=lambda x: x[1], reverse=True)\n",
    "print(nodes_by_degree)"
   ]
  },
  {
   "cell_type": "markdown",
   "metadata": {},
   "source": [
    "The top of the list shows that there are well connected nodes in both the large and the small subunit. \n",
    "\n",
    "Networkx has a degree histogram function. \n",
    "The cell below shows that for a bin of 1 (it can be good to increase the bin size for larger graphs)."
   ]
  },
  {
   "cell_type": "code",
   "execution_count": null,
   "metadata": {},
   "outputs": [],
   "source": [
    "bin=1\n",
    "degree_freq = nx.degree_histogram(contacts_graph)\n",
    "degrees = range(len(degree_freq))\n",
    "plt.figure(figsize=(12, 8)) \n",
    "plt.plot(degrees[bin:], degree_freq[bin:],'go-') \n",
    "plt.xlabel('Degree')\n",
    "plt.ylabel('Frequency')"
   ]
  },
  {
   "cell_type": "markdown",
   "metadata": {},
   "source": [
    "The neighbours of particular nodes can be obtained. Here is one of the best connected nodes from the sorted degree dictionary earlier. "
   ]
  },
  {
   "cell_type": "code",
   "execution_count": null,
   "metadata": {},
   "outputs": [],
   "source": [
    "list(contacts_graph.neighbors('eS21'))"
   ]
  },
  {
   "cell_type": "markdown",
   "metadata": {},
   "source": [
    "Now write code to work to find the node with the highest degree that has any contacts with the other subunit."
   ]
  },
  {
   "cell_type": "code",
   "execution_count": null,
   "metadata": {},
   "outputs": [],
   "source": [
    "# code to find the nodes with the highest degree that have any contacts with the other subunit."
   ]
  },
  {
   "cell_type": "markdown",
   "metadata": {},
   "source": [
    "## Advanced exercise colour  network by degree\n",
    "\n",
    "This is a slightly tricky, see https://stackoverflow.com/a/28916094 for hint"
   ]
  },
  {
   "cell_type": "markdown",
   "metadata": {},
   "source": [
    "## Cliques\n",
    "\n",
    "Cliques are also called 'complete' subgraphs. These are complete groups of nodes where each one is joined to each of the others.   \n",
    "\n",
    "You can see that some of the best connected nodes are also members of multiple larger cliques. "
   ]
  },
  {
   "cell_type": "code",
   "execution_count": null,
   "metadata": {},
   "outputs": [],
   "source": [
    "list(nx.find_cliques(contacts_graph))"
   ]
  },
  {
   "cell_type": "markdown",
   "metadata": {},
   "source": [
    "It is interesting to compare a network with an artificial one made in some random way. The original of this is the Erdox-Renyi graph. This is made for the given number of nodes and the probability of edge formation. Conveniently this is the graph density. \n",
    "Our network had 68 nodes and an approximate density of 0.055.\n",
    "\n",
    "Of course this will give a different graph every time it is run."
   ]
  },
  {
   "cell_type": "code",
   "execution_count": null,
   "metadata": {},
   "outputs": [],
   "source": [
    "E = nx.erdos_renyi_graph(68,0.055)"
   ]
  },
  {
   "cell_type": "code",
   "execution_count": null,
   "metadata": {},
   "outputs": [],
   "source": [
    "nx.draw_spring(E,k=0.80,iterations=50, with_labels=True, node_color='r',)"
   ]
  },
  {
   "cell_type": "markdown",
   "metadata": {},
   "source": [
    "You may see that a low density has a fairly high chance of having disconnected components.\n",
    "The ribosome did in fact have several disconnect components that were present in the paper's data table but which was editted out for simplicity in the plots for this notebook. \n",
    "\n",
    "We can plot the degree histogram of the random graph for comparison with the ribosome protein one. "
   ]
  },
  {
   "cell_type": "code",
   "execution_count": null,
   "metadata": {},
   "outputs": [],
   "source": [
    "bin=1\n",
    "degree_freq = nx.degree_histogram(E)\n",
    "degrees = range(len(degree_freq))\n",
    "plt.figure(figsize=(12, 8)) \n",
    "plt.plot(degrees[bin:], degree_freq[bin:],'go-') \n",
    "plt.xlabel('Degree')\n",
    "plt.ylabel('Frequency')"
   ]
  },
  {
   "cell_type": "markdown",
   "metadata": {},
   "source": [
    "The Watts-Strogatz graph is a special kind of random artificial graph. This is made for the given number of nodes and a starting number of edges (k). But then the connections are re-wired to attempt to add a 'small world' connectivity to the network. The parameter p controls the rewiring. \n",
    "\n",
    "So here is a small world network the same size as our ribosomal one. This version enforces a connected graph. "
   ]
  },
  {
   "cell_type": "code",
   "execution_count": null,
   "metadata": {},
   "outputs": [],
   "source": [
    "S = nx.connected_watts_strogatz_graph(68, k=4, p=0.5)"
   ]
  },
  {
   "cell_type": "code",
   "execution_count": null,
   "metadata": {},
   "outputs": [],
   "source": [
    "nx.draw_spring(S,k=0.80,iterations=50, with_labels=True, node_color='g',)"
   ]
  },
  {
   "cell_type": "code",
   "execution_count": null,
   "metadata": {},
   "outputs": [],
   "source": [
    "bin=1\n",
    "degree_freq = nx.degree_histogram(S)\n",
    "degrees = range(len(degree_freq))\n",
    "plt.figure(figsize=(12, 8)) \n",
    "plt.plot(degrees[bin:], degree_freq[bin:],'go-') \n",
    "plt.xlabel('Degree')\n",
    "plt.ylabel('Frequency')"
   ]
  },
  {
   "cell_type": "markdown",
   "metadata": {},
   "source": []
  },
  {
   "cell_type": "markdown",
   "metadata": {},
   "source": [
    "## Advanced exercises: plot network diagram with circle where large and small subunits are in separated sections\n",
    "\n",
    "This is quite involved.\n",
    "\n",
    "Even more advanced use a separate circle for the small and large subunits."
   ]
  },
  {
   "cell_type": "code",
   "execution_count": null,
   "metadata": {},
   "outputs": [],
   "source": []
  }
 ],
 "metadata": {
  "kernelspec": {
   "display_name": "Python 3",
   "language": "python",
   "name": "python3"
  },
  "language_info": {
   "codemirror_mode": {
    "name": "ipython",
    "version": 3
   },
   "file_extension": ".py",
   "mimetype": "text/x-python",
   "name": "python",
   "nbconvert_exporter": "python",
   "pygments_lexer": "ipython3",
   "version": "3.8.1"
  }
 },
 "nbformat": 4,
 "nbformat_minor": 2
}
